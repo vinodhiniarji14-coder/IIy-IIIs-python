{
  "nbformat": 4,
  "nbformat_minor": 0,
  "metadata": {
    "colab": {
      "provenance": [],
      "authorship_tag": "ABX9TyNI6QheBRtAYJAWzzlD+9eb",
      "include_colab_link": true
    },
    "kernelspec": {
      "name": "python3",
      "display_name": "Python 3"
    },
    "language_info": {
      "name": "python"
    }
  },
  "cells": [
    {
      "cell_type": "markdown",
      "metadata": {
        "id": "view-in-github",
        "colab_type": "text"
      },
      "source": [
        "<a href=\"https://colab.research.google.com/github/vinodhiniarji14-coder/IIy-IIIs-python/blob/main/Unit1.ipynb\" target=\"_parent\"><img src=\"https://colab.research.google.com/assets/colab-badge.svg\" alt=\"Open In Colab\"/></a>"
      ]
    },
    {
      "cell_type": "code",
      "execution_count": 1,
      "metadata": {
        "colab": {
          "base_uri": "https://localhost:8080/"
        },
        "id": "jizQEW51Q2kg",
        "outputId": "8d793b7e-e5b2-468b-e814-b6a438db24a2"
      },
      "outputs": [
        {
          "output_type": "stream",
          "name": "stdout",
          "text": [
            "Enter weight in kilograms: 50\n",
            "50.0 kilograms is equal to 160.00 pounds.\n"
          ]
        }
      ],
      "source": [
        "KG_TO_POUNDS = 3.2\n",
        "# Ask the user for weight in kilograms\n",
        "kg = float(input(\"Enter weight in kilograms: \"))\n",
        "# Convert to pounds\n",
        "pounds = kg * KG_TO_POUNDS\n",
        "print(f\"{kg} kilograms is equal to {pounds:.2f} pounds.\")"
      ]
    },
    {
      "cell_type": "code",
      "source": [
        "for n in range(8,90,3):\n",
        "    print(n,end=\",\")"
      ],
      "metadata": {
        "colab": {
          "base_uri": "https://localhost:8080/"
        },
        "id": "GXobCLUURxib",
        "outputId": "c680ea13-1062-4e8d-a27f-c724f4b0e68d"
      },
      "execution_count": 2,
      "outputs": [
        {
          "output_type": "stream",
          "name": "stdout",
          "text": [
            "8,11,14,17,20,23,26,29,32,35,38,41,44,47,50,53,56,59,62,65,68,71,74,77,80,83,86,89,"
          ]
        }
      ]
    },
    {
      "cell_type": "code",
      "source": [
        "text=\"zari\"\n",
        "char_list=list(text)\n",
        "print(char_list)"
      ],
      "metadata": {
        "colab": {
          "base_uri": "https://localhost:8080/"
        },
        "id": "uzvz_9MtR1d4",
        "outputId": "2ab73369-0697-4cd8-dd99-98fd6bcd78cd"
      },
      "execution_count": 3,
      "outputs": [
        {
          "output_type": "stream",
          "name": "stdout",
          "text": [
            "['z', 'a', 'r', 'i']\n"
          ]
        }
      ]
    },
    {
      "cell_type": "code",
      "source": [
        "numbers = [12, 45, 67, 23, 89, 34]\n",
        "largest = max(numbers)\n",
        "print(\"The largest number is:\", largest)"
      ],
      "metadata": {
        "colab": {
          "base_uri": "https://localhost:8080/"
        },
        "id": "iFgjhvwkR5Gh",
        "outputId": "510531f4-8083-4d9e-cecb-bb6a94bc8f24"
      },
      "execution_count": 4,
      "outputs": [
        {
          "output_type": "stream",
          "name": "stdout",
          "text": [
            "The largest number is: 89\n"
          ]
        }
      ]
    },
    {
      "cell_type": "code",
      "source": [
        "def fibonacci(n):\n",
        "    if n <= 0:\n",
        "        return \"Invalid input. n must be a positive integer.\"\n",
        "    elif n == 1:\n",
        "        return 0\n",
        "    elif n == 2:\n",
        "        return 1\n",
        "    else:\n",
        "        a, b = 0, 1\n",
        "        for _ in range(2, n):\n",
        "            a, b = b, a + b\n",
        "        return b\n",
        "n = int(input(\"Enter the position (n) of the Fibonacci number: \"))\n",
        "result = fibonacci(n)\n",
        "print(f\"The {n}th Fibonacci number is:\", result)"
      ],
      "metadata": {
        "colab": {
          "base_uri": "https://localhost:8080/"
        },
        "id": "HHyJFwUuR-nS",
        "outputId": "f7c31783-50a7-45ac-cc2c-70266437bd0d"
      },
      "execution_count": 5,
      "outputs": [
        {
          "output_type": "stream",
          "name": "stdout",
          "text": [
            "Enter the position (n) of the Fibonacci number: 5\n",
            "The 5th Fibonacci number is: 3\n"
          ]
        }
      ]
    }
  ]
}